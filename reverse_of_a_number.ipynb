{
  "nbformat": 4,
  "nbformat_minor": 0,
  "metadata": {
    "colab": {
      "name": "reverse_of_a_number.ipynb",
      "provenance": [],
      "authorship_tag": "ABX9TyNzHfkEaKfNeTPcvwCtWrWO",
      "include_colab_link": true
    },
    "kernelspec": {
      "name": "python3",
      "display_name": "Python 3"
    },
    "language_info": {
      "name": "python"
    }
  },
  "cells": [
    {
      "cell_type": "markdown",
      "metadata": {
        "id": "view-in-github",
        "colab_type": "text"
      },
      "source": [
        "<a href=\"https://colab.research.google.com/github/pavankumar5434/Basic-ML/blob/main/reverse_of_a_number.ipynb\" target=\"_parent\"><img src=\"https://colab.research.google.com/assets/colab-badge.svg\" alt=\"Open In Colab\"/></a>"
      ]
    },
    {
      "cell_type": "markdown",
      "metadata": {
        "id": "ukA730gK6-G-"
      },
      "source": [
        ""
      ]
    },
    {
      "cell_type": "markdown",
      "metadata": {
        "id": "xPTCITG368ca"
      },
      "source": [
        ""
      ]
    },
    {
      "cell_type": "code",
      "metadata": {
        "colab": {
          "base_uri": "https://localhost:8080/"
        },
        "id": "wvtLXgKV7Hxr",
        "outputId": "69fcce1e-8c5b-4445-cf14-dde58292207b"
      },
      "source": [
        "number=int(input(\"Enter a number : \"))\n",
        "rev=0\n",
        "temp=number\n",
        "while number>0:\n",
        "  r=number%10\n",
        "  rev=rev*10+r\n",
        "  number=number//10\n",
        "print(\"The reverse of \",temp,\" is\", rev)\n",
        "\n"
      ],
      "execution_count": 3,
      "outputs": [
        {
          "output_type": "stream",
          "text": [
            "Enter a number : 123456\n",
            "The reverse of  123456  is 654321\n"
          ],
          "name": "stdout"
        }
      ]
    },
    {
      "cell_type": "markdown",
      "metadata": {
        "id": "j6DOnt7U7FmL"
      },
      "source": [
        "# **`reverse of a number`**\n",
        "\n",
        "> Indented block\n",
        "\n",
        "1.   List item\n",
        "\n",
        "*   List item\n",
        "\n",
        "---\n",
        "\n",
        "bold text\n",
        "\n",
        "> Indented block\n",
        "\n",
        "\n",
        "*   List item\n",
        "\n",
        "\n",
        "2.   List item\n",
        "\n",
        "\n",
        "\n"
      ]
    }
  ]
}