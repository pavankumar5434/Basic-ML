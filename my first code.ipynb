{
  "nbformat": 4,
  "nbformat_minor": 0,
  "metadata": {
    "colab": {
      "name": "Untitled0.ipynb",
      "provenance": [],
      "authorship_tag": "ABX9TyMgIdv00TGf7pJGC12vUgIs",
      "include_colab_link": true
    },
    "kernelspec": {
      "name": "python3",
      "display_name": "Python 3"
    },
    "language_info": {
      "name": "python"
    }
  },
  "cells": [
    {
      "cell_type": "markdown",
      "metadata": {
        "id": "view-in-github",
        "colab_type": "text"
      },
      "source": [
        "<a href=\"https://colab.research.google.com/github/pavankumar5434/Basic-ML/blob/main/my%20first%20code.ipynb\" target=\"_parent\"><img src=\"https://colab.research.google.com/assets/colab-badge.svg\" alt=\"Open In Colab\"/></a>"
      ]
    },
    {
      "cell_type": "code",
      "metadata": {
        "id": "q40XSkLgx_tF"
      },
      "source": [
        ""
      ],
      "execution_count": null,
      "outputs": []
    },
    {
      "cell_type": "markdown",
      "metadata": {
        "id": "bSmYux1dyGIQ"
      },
      "source": [
        "My First Notebook\n"
      ]
    },
    {
      "cell_type": "code",
      "metadata": {
        "colab": {
          "base_uri": "https://localhost:8080/"
        },
        "id": "BfF9Lzu3yKmM",
        "outputId": "435602bc-d56d-4ef2-a51a-7ffc90e1c9fb"
      },
      "source": [
        "x=10\n",
        "y=20\n",
        "addition=x+y\n",
        "print(\"addition of \", x,\"&\", y,\"=\", addition)"
      ],
      "execution_count": 7,
      "outputs": [
        {
          "output_type": "stream",
          "text": [
            "addition of  10 & 20 = 30\n"
          ],
          "name": "stdout"
        }
      ]
    },
    {
      "cell_type": "code",
      "metadata": {
        "colab": {
          "base_uri": "https://localhost:8080/"
        },
        "id": "DReqKQjtyf7d",
        "outputId": "755cbf33-0d26-4b7d-d4bf-79b7443fd0da"
      },
      "source": [
        "a=3\n",
        "b=4\n",
        "temp=a\n",
        "a=b\n",
        "b=temp\n",
        "print(\"After swapping: \",\"a = \",a,\"b = \",b)"
      ],
      "execution_count": 5,
      "outputs": [
        {
          "output_type": "stream",
          "text": [
            "After swapping:  a =  4 b =  3\n"
          ],
          "name": "stdout"
        }
      ]
    },
    {
      "cell_type": "code",
      "metadata": {
        "colab": {
          "base_uri": "https://localhost:8080/"
        },
        "id": "FPOrjIxlywCo",
        "outputId": "70882949-ceb5-4a95-ba0a-016c4188fa92"
      },
      "source": [
        "number=int(input(\"Enter a number\"))\n",
        "if (number%2==0):\n",
        "  print(number,\" is Even\")\n",
        "else:\n",
        "  print(number,\" is Odd\")"
      ],
      "execution_count": 9,
      "outputs": [
        {
          "output_type": "stream",
          "text": [
            "Enter a number10000\n",
            "10000  is Even\n"
          ],
          "name": "stdout"
        }
      ]
    },
    {
      "cell_type": "markdown",
      "metadata": {
        "id": "VC8h_p8ayDyM"
      },
      "source": [
        ""
      ]
    }
  ]
}